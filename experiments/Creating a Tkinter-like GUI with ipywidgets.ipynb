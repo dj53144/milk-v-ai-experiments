{
 "cells": [
  {
   "cell_type": "markdown",
   "id": "4b3eb1aa",
   "metadata": {},
   "source": [
    "# Creating a Tkinter-like GUI with ipywidgets"
   ]
  },
  {
   "cell_type": "markdown",
   "id": "4db16b23",
   "metadata": {},
   "source": [
    "## Introduction"
   ]
  },
  {
   "cell_type": "markdown",
   "id": "6cb3f802",
   "metadata": {},
   "source": [
    "This notebook was created by [Jupyter AI](https://github.com/jupyterlab/jupyter-ai) with the following prompt:\n",
    "\n",
    "> /generate a notebook that demonstrates how to add a tkinter like gui to a notebook."
   ]
  },
  {
   "cell_type": "markdown",
   "id": "8d1ada6f",
   "metadata": {},
   "source": [
    " This Jupyter Notebook provides a comprehensive guide on creating a user interface similar to the Tkinter library using the `ipywidgets` library in Python. It starts by installing necessary libraries, then sets up a basic GUI with widgets such as buttons and text inputs. The author explains how to add functionality to these widgets through callback functions linked to widget events, and demonstrates organizing multiple widgets into a single window using layout options provided by `ipywidgets`. Throughout the notebook, practical examples and step-by-step instructions are given to help users follow along and create their own Tkinter-like GUI applications."
   ]
  },
  {
   "cell_type": "markdown",
   "id": "ca2dc76a",
   "metadata": {},
   "source": [
    "## Setting Up the Notebook"
   ]
  },
  {
   "cell_type": "markdown",
   "id": "9359c791",
   "metadata": {},
   "source": [
    " ```python\n",
    "# Import necessary libraries\n",
    "import ipywidgets as widgets\n",
    "from IPython.display import display"
   ]
  },
  {
   "cell_type": "code",
   "execution_count": 26,
   "id": "311aa0f2",
   "metadata": {},
   "outputs": [
    {
     "name": "stdout",
     "output_type": "stream",
     "text": [
      "Welcome to the Tkinter-like GUI creation using ipywidgets!\n"
     ]
    }
   ],
   "source": [
    "# Display a welcome message\n",
    "print(\"Welcome to the Tkinter-like GUI creation using ipywidgets!\")"
   ]
  },
  {
   "cell_type": "code",
   "execution_count": 27,
   "id": "69d68ff0",
   "metadata": {},
   "outputs": [],
   "source": [
    "# Import the ipywidgets library as widgets\n",
    "import ipywidgets as widgets\n",
    "\n",
    "# Create a button widget with an improved description and function callback\n",
    "button = widgets.Button(description=\"Click Me\", layout=widgets.Layout(width='100px', height='30px'))"
   ]
  },
  {
   "cell_type": "code",
   "execution_count": 28,
   "id": "2c38eac2",
   "metadata": {},
   "outputs": [],
   "source": [
    "# Define a function that will be called when the button is clicked\n",
    "def on_button_click(b):\n",
    "    print(\"Button has been clicked!\")"
   ]
  },
  {
   "cell_type": "code",
   "execution_count": 29,
   "id": "e17af048",
   "metadata": {},
   "outputs": [],
   "source": [
    "# Attach the function to the button's click event\n",
    "button.on_click(on_button_click)"
   ]
  },
  {
   "cell_type": "code",
   "execution_count": 30,
   "id": "0f98e9c8",
   "metadata": {},
   "outputs": [],
   "source": [
    "# Create a text input widget with a placeholder\n",
    "text = widgets.Text(description=\"Enter Text:\", placeholder='Type here...')"
   ]
  },
  {
   "cell_type": "code",
   "execution_count": 31,
   "id": "67ba1297",
   "metadata": {},
   "outputs": [
    {
     "data": {
      "application/vnd.jupyter.widget-view+json": {
       "model_id": "32c5ef42a98f440f994ea221d210f61b",
       "version_major": 2,
       "version_minor": 0
      },
      "text/plain": [
       "Button(description='Click Me', layout=Layout(height='30px', width='100px'), style=ButtonStyle())"
      ]
     },
     "metadata": {},
     "output_type": "display_data"
    },
    {
     "data": {
      "application/vnd.jupyter.widget-view+json": {
       "model_id": "dfc0cac478c24b6abfeb1ebbf1a2ddbc",
       "version_major": 2,
       "version_minor": 0
      },
      "text/plain": [
       "Text(value='', description='Enter Text:', placeholder='Type here...')"
      ]
     },
     "metadata": {},
     "output_type": "display_data"
    }
   ],
   "source": [
    "# Display the widgets in the notebook\n",
    "display(button)\n",
    "display(text)"
   ]
  },
  {
   "cell_type": "markdown",
   "id": "cc65ccf5",
   "metadata": {},
   "source": [
    "## Creating the GUI Layout"
   ]
  },
  {
   "cell_type": "markdown",
   "id": "0a9b895a",
   "metadata": {},
   "source": [
    " ```python\n",
    "# Import necessary libraries\n",
    "import ipywidgets as widgets\n",
    "from IPython.display import display"
   ]
  },
  {
   "cell_type": "code",
   "execution_count": 32,
   "id": "77c431cc",
   "metadata": {},
   "outputs": [],
   "source": [
    "# Step 2: Create Widgets\n",
    "button = widgets.Button(description=\"Click Me!\")\n",
    "text_input = widgets.Text()\n",
    "dropdown = widgets.Dropdown(options=['Option1', 'Option2', 'Option3'])"
   ]
  },
  {
   "cell_type": "code",
   "execution_count": 33,
   "id": "386c40dc",
   "metadata": {},
   "outputs": [],
   "source": [
    "# Function to add functionality to the button\n",
    "def on_button_click(_):\n",
    "    print(\"Button has been clicked!\")"
   ]
  },
  {
   "cell_type": "code",
   "execution_count": 34,
   "id": "ed514fd4",
   "metadata": {},
   "outputs": [],
   "source": [
    "button.on_click(on_button_click)"
   ]
  },
  {
   "cell_type": "code",
   "execution_count": 35,
   "id": "09dbe82d",
   "metadata": {},
   "outputs": [],
   "source": [
    "# Step 3: Organize Widgets into a Layout\n",
    "layout = widgets.VBox([button, text_input, dropdown])"
   ]
  },
  {
   "cell_type": "code",
   "execution_count": 36,
   "id": "59e9d9b6",
   "metadata": {},
   "outputs": [
    {
     "data": {
      "application/vnd.jupyter.widget-view+json": {
       "model_id": "ff72c52978a542d8876a23a1864e007c",
       "version_major": 2,
       "version_minor": 0
      },
      "text/plain": [
       "VBox(children=(Button(description='Click Me!', style=ButtonStyle()), Text(value=''), Dropdown(options=('Option…"
      ]
     },
     "metadata": {},
     "output_type": "display_data"
    }
   ],
   "source": [
    "# Display the layout in the notebook\n",
    "display(layout)"
   ]
  },
  {
   "cell_type": "markdown",
   "id": "b0efe16d",
   "metadata": {},
   "source": [
    "## Adding Functionality"
   ]
  },
  {
   "cell_type": "markdown",
   "id": "13ec09a1",
   "metadata": {},
   "source": [
    " ```python\n",
    "import ipywidgets as widgets\n",
    "from IPython.display import display"
   ]
  },
  {
   "cell_type": "code",
   "execution_count": 37,
   "id": "eb5cd94f",
   "metadata": {},
   "outputs": [],
   "source": [
    "def on_button_click(b):\n",
    "    user_input = text_input.value\n",
    "    output_label.value = f\"Hello, {user_input}! You clicked the button.\""
   ]
  },
  {
   "cell_type": "code",
   "execution_count": 39,
   "id": "324c797c",
   "metadata": {},
   "outputs": [
    {
     "data": {
      "application/vnd.jupyter.widget-view+json": {
       "model_id": "ddf99d07c30c4a8891e1ada934be5900",
       "version_major": 2,
       "version_minor": 0
      },
      "text/plain": [
       "VBox(children=(Text(value='', description='Input:'), Button(description='Click Me!', style=ButtonStyle()), Lab…"
      ]
     },
     "metadata": {},
     "output_type": "display_data"
    }
   ],
   "source": [
    "text_input = widgets.Text(description=\"Input:\")\n",
    "button = widgets.Button(description=\"Click Me!\")\n",
    "button.on_click(on_button_click)\n",
    "output_label = widgets.Label(value=\"Ready to click the button.\")\n",
    "widgets_layout = widgets.VBox([text_input, button, output_label])\n",
    "display(widgets_layout)"
   ]
  },
  {
   "cell_type": "markdown",
   "id": "e7887076",
   "metadata": {},
   "source": [
    "## Organizing Widgets"
   ]
  },
  {
   "cell_type": "markdown",
   "id": "8b5feb8c",
   "metadata": {},
   "source": [
    " ```python\n",
    "import ipywidgets as widgets\n",
    "from IPython.display import display"
   ]
  },
  {
   "cell_type": "code",
   "execution_count": 40,
   "id": "a03fa04b",
   "metadata": {},
   "outputs": [
    {
     "name": "stdout",
     "output_type": "stream",
     "text": [
      "Welcome to the section on Organizing Widgets using `ipywidgets`.\n"
     ]
    }
   ],
   "source": [
    "# Section: Organizing Widgets\n",
    "print(\"Welcome to the section on Organizing Widgets using `ipywidgets`.\")"
   ]
  },
  {
   "cell_type": "code",
   "execution_count": 41,
   "id": "51d6b94c",
   "metadata": {},
   "outputs": [],
   "source": [
    "# Step 1: Create a tab system using Tab()\n",
    "tab_system = widgets.Tab()"
   ]
  },
  {
   "cell_type": "code",
   "execution_count": 42,
   "id": "34421cd4",
   "metadata": {},
   "outputs": [],
   "source": [
    "# Define the names of the tabs\n",
    "tab_names = ['Tab 1', 'Tab 2', 'Tab 3']"
   ]
  },
  {
   "cell_type": "code",
   "execution_count": 43,
   "id": "d10a5f6c",
   "metadata": {},
   "outputs": [],
   "source": [
    "# Create individual tabs for each name\n",
    "for name in tab_names:\n",
    "    tab_system.children += (widgets.Text(value='This is '+name, layout=widgets.Layout(width='50%', height='100px')),)"
   ]
  },
  {
   "cell_type": "code",
   "execution_count": 44,
   "id": "5a9f91c6",
   "metadata": {},
   "outputs": [],
   "source": [
    "# Set the titles of the tabs\n",
    "tab_system.set_title(0, 'First')\n",
    "tab_system.set_title(1, 'Second')\n",
    "tab_system.set_title(2, 'Third')"
   ]
  },
  {
   "cell_type": "code",
   "execution_count": 45,
   "id": "f45831f7",
   "metadata": {},
   "outputs": [
    {
     "data": {
      "application/vnd.jupyter.widget-view+json": {
       "model_id": "5a50f51535494e3f9f0db5be3aa4d2a4",
       "version_major": 2,
       "version_minor": 0
      },
      "text/plain": [
       "Tab(children=(Text(value='This is Tab 1', layout=Layout(height='100px', width='50%')), Text(value='This is Tab…"
      ]
     },
     "metadata": {},
     "output_type": "display_data"
    }
   ],
   "source": [
    "# Display the tab system\n",
    "display(tab_system)"
   ]
  },
  {
   "cell_type": "code",
   "execution_count": 46,
   "id": "e6d26d05",
   "metadata": {},
   "outputs": [],
   "source": [
    "# Step 2: Add interactivity to the tabs using Button and Output widgets\n",
    "button = widgets.Button(description=\"Update Tabs\")\n",
    "output = widgets.Output()"
   ]
  },
  {
   "cell_type": "code",
   "execution_count": 47,
   "id": "3278d796",
   "metadata": {},
   "outputs": [],
   "source": [
    "def on_button_clicked(b):\n",
    "    with output:\n",
    "        print(\"Updating tab content...\")\n",
    "        for i in range(3, 6):  # Updating to new content\n",
    "            tab_system.children += (widgets.Text(value='This is Tab '+str(i), layout=widgets.Layout(width='50%', height='100px')),)\n",
    "            tab_system.set_title(i, 'Dynamic'+str(i))"
   ]
  },
  {
   "cell_type": "code",
   "execution_count": 48,
   "id": "9290d619",
   "metadata": {},
   "outputs": [],
   "source": [
    "button.on_click(on_button_clicked)"
   ]
  },
  {
   "cell_type": "code",
   "execution_count": 49,
   "id": "77c948fc",
   "metadata": {},
   "outputs": [
    {
     "data": {
      "application/vnd.jupyter.widget-view+json": {
       "model_id": "740389a8cf5a4ebd818522380f8380a8",
       "version_major": 2,
       "version_minor": 0
      },
      "text/plain": [
       "Button(description='Update Tabs', style=ButtonStyle())"
      ]
     },
     "metadata": {},
     "output_type": "display_data"
    },
    {
     "data": {
      "application/vnd.jupyter.widget-view+json": {
       "model_id": "727a39294d3f4b589051538718d6b95c",
       "version_major": 2,
       "version_minor": 0
      },
      "text/plain": [
       "Output()"
      ]
     },
     "metadata": {},
     "output_type": "display_data"
    }
   ],
   "source": [
    "# Display the button and output\n",
    "display(button, output)"
   ]
  },
  {
   "cell_type": "code",
   "execution_count": null,
   "id": "0c8dbb02-9eaa-4e95-9914-5cff546ce536",
   "metadata": {},
   "outputs": [],
   "source": []
  }
 ],
 "metadata": {
  "kernelspec": {
   "display_name": "Python 3 (ipykernel)",
   "language": "python",
   "name": "python3"
  },
  "language_info": {
   "codemirror_mode": {
    "name": "ipython",
    "version": 3
   },
   "file_extension": ".py",
   "mimetype": "text/x-python",
   "name": "python",
   "nbconvert_exporter": "python",
   "pygments_lexer": "ipython3",
   "version": "3.11.9"
  }
 },
 "nbformat": 4,
 "nbformat_minor": 5
}
